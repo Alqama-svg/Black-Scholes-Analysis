{
 "cells": [
  {
   "cell_type": "code",
   "execution_count": 1,
   "id": "15e30e23-e7df-4a58-816b-948c1b74e015",
   "metadata": {},
   "outputs": [],
   "source": [
    "from math import log, sqrt, pi, exp\n",
    "from scipy.stats import norm\n",
    "from datetime import datetime, date\n",
    "import numpy as np\n",
    "import pandas as pd\n",
    "from pandas import DataFrame"
   ]
  },
  {
   "cell_type": "code",
   "execution_count": 7,
   "id": "f4390f7f-559b-49b3-9611-30cf410fd410",
   "metadata": {},
   "outputs": [],
   "source": [
    "# underlying price (per share): 5;\n",
    "# strike price for the option (per share): K;\n",
    "# time to maturity (years): T;\n",
    "# Continuously compounding risk-free interest rate: r;\n",
    "# Volatility\n",
    "\n",
    "## define two functions, d1 and d2 in Black-Scholes model\n",
    "\n",
    "def d1(S, K, T, r, sigma):\n",
    "    return(log(S/K) + (r + sigma**2/2)*T)/sigma*sqrt(T)\n",
    "def d2(S, K, T, r, sigma):\n",
    "    return d1(S, K, T, r, sigma) - sigma*sqrt(T)"
   ]
  },
  {
   "cell_type": "code",
   "execution_count": 13,
   "id": "cffb57f9-ec7a-4a9a-90eb-ef1d238e20e3",
   "metadata": {},
   "outputs": [],
   "source": [
    "def bs_call(S, K, T, r, sigma):\n",
    "    return S*norm.cdf(d1(S, K, T, r, sigma)) - K*exp(-r*T)*norm.cdf(d2(S, K, T, r, sigma))"
   ]
  },
  {
   "cell_type": "code",
   "execution_count": 15,
   "id": "16c3c102-4924-4e22-9b5c-2491ec6d8021",
   "metadata": {},
   "outputs": [],
   "source": [
    "def bs_put(S, K, T, r, sigma):\n",
    "    return K*exp(-r*T) - S + bs_call(S, K, T, r, sigma);"
   ]
  },
  {
   "cell_type": "code",
   "execution_count": 19,
   "id": "12fe2ce0-af9e-4970-b8b9-0a815f56effb",
   "metadata": {},
   "outputs": [],
   "source": [
    "def call_delta(S, K, T, r, sigma):\n",
    "    return norm.cdf(d1(S, K, T, r, sigma))\n",
    "def call_gamma(S, K, T, r, sigma):\n",
    "    return norm.pdf(d1(S, K, T, r, sigma)) / (S*sigma*sqrt(T))\n",
    "def call_vega(S, K, T, r, sigma):\n",
    "    return 0.01*(S*norm.pdf(d1(S, K, T, r, sigma))*sqrt(T))\n",
    "def call_theta(S, K, T, r, sigma):\n",
    "    return 0.01*(-(S*norm.pdf(d1(S, K, T, r, sigma))*sigma)/(2*sqrt(T)) - r*K*exp(-r*T)*norm.cdf(d2(S, K, T, r, sigma)))\n",
    "def call_rho(S, K, T, r, sigma):\n",
    "    return 0.01*(K*T*exp(-r*T)*norm.cdf(d2(S, K, T, r, sigma)))"
   ]
  },
  {
   "cell_type": "code",
   "execution_count": 21,
   "id": "38477293-7ae5-4647-992f-47629a2580f2",
   "metadata": {},
   "outputs": [],
   "source": [
    "def put_delta(S, K, T, r, sigma):\n",
    "    return -norm.cdf(-d1(S, K, T, r, sigma))\n",
    "def put_gamma(S, K, T, r, sigma):\n",
    "    return norm.pdf(d1(S, K, T, r, sigma))/(S*sigma*sqrt(T))\n",
    "def put_vega(S, K, T, r, sigma):\n",
    "    return 0.01*(S*norm.pdf(d1(S, K, T, r, sigma))*sqrt(T))\n",
    "def put_theta(S, K, T, r, sigma):\n",
    "    return 0.01*(-(S*norm.pdf(d1(S, K, T, r, sigma))*sigma)/(2*sqrt(T)) + r*K*exp(-r*T)*norm.cdf(-d2(S, K, T, r, sigma)))\n",
    "def put_rho(S, K, T, r, sigma):\n",
    "    return 0.01*(-K*T*exp(-r*T)*norm.cdf(-d2(S, K, T, r, sigma)))"
   ]
  },
  {
   "cell_type": "code",
   "execution_count": 31,
   "id": "09fb1a9f-c224-423c-b252-5d8d5012a3ec",
   "metadata": {},
   "outputs": [
    {
     "name": "stdin",
     "output_type": "stream",
     "text": [
      "What is the current stock price?  100\n",
      "What is the strike price?  100\n",
      "What is the expiration date of options? (mm-dd-yyyy)  07-11-2026\n",
      "What is the continuously compounding risk-free interest rate in percentage(%)?  5\n",
      "What is the volatility in percentage(%)?  20\n"
     ]
    }
   ],
   "source": [
    "from datetime import datetime\n",
    "\n",
    "## input the current stock price and check if it is a number\n",
    "S = input(\"What is the current stock price? \")\n",
    "while True:\n",
    "    try:\n",
    "        S = float(S)\n",
    "        break\n",
    "    except:\n",
    "        print(\"The current stock price has to be a NUMBER.\")\n",
    "        S = input(\"What is the current stock price? \")\n",
    "\n",
    "## Input the strike price and check if it is a number.    \n",
    "K = input(\"What is the strike price? \")\n",
    "while True:\n",
    "    try:\n",
    "        K = float(K)\n",
    "        break\n",
    "    except:\n",
    "        print(\"The strike price has to be a NUMBER.\")\n",
    "        K = input(\"What is the strike price? \")  # Fixed: was S, should be K\n",
    "\n",
    "## Input the expiration date and calculate the days between today and the expiration date.    \n",
    "while True:\n",
    "    expiration_date = input(\"What is the expiration date of options? (mm-dd-yyyy) \")\n",
    "    try:\n",
    "        expiration_date = datetime.strptime(expiration_date, \"%m-%d-%Y\")  # Fixed: format should be %m-%d-%Y\n",
    "    except ValueError as e:\n",
    "        print(\"error: %s\\nTry again,\" % (e,))\n",
    "    else:\n",
    "        break\n",
    "\n",
    "T = (expiration_date - datetime.now()).days / 365  # Fixed: datetime.now()\n",
    "\n",
    "## Input the continuously compounding risk-free interest rate and check if it is a number.\n",
    "r = input(\"What is the continuously compounding risk-free interest rate in percentage(%)? \")\n",
    "while True:\n",
    "    try:\n",
    "        r = float(r)\n",
    "        break\n",
    "    except:\n",
    "        print(\"The continuously compounding risk-free interest rate has to be a NUMBER.\")\n",
    "        r = input(\"What is the continuously compounding risk-free interest rate in percentage(%)? \")\n",
    "\n",
    "## Input the volatility and check if it is a number.\n",
    "sigma = input(\"What is the volatility in percentage(%)? \")\n",
    "while True:\n",
    "    try:\n",
    "        sigma = float(sigma)\n",
    "        if sigma > 100 or sigma < 0:\n",
    "            print(\"The range of sigma has to be in [0,100].\")\n",
    "            sigma = input(\"What is the volatility in percentage(%)? \")\n",
    "        else:\n",
    "            break\n",
    "    except:\n",
    "        print(\"The volatility has to be a NUMBER.\")\n",
    "        sigma = input(\"What is the volatility in percentage(%)? \")  # Fixed: was S, should be sigma"
   ]
  },
  {
   "cell_type": "code",
   "execution_count": 33,
   "id": "64b6aff4-a88d-4e4a-bf64-9c20c34d9a1a",
   "metadata": {},
   "outputs": [
    {
     "name": "stdout",
     "output_type": "stream",
     "text": [
      "                        Symbol  Input\n",
      "Underlying price             S  100.0\n",
      "Strike price                 K  100.0\n",
      "Time to maturity             T    1.0\n",
      "Risk-free interest rate      r    5.0\n",
      "Volatility               sigma   20.0\n"
     ]
    }
   ],
   "source": [
    "## make a dataframe of these inputs\n",
    "\n",
    "data = {'Symbol': ['S', 'K', 'T', 'r', 'sigma'],\n",
    "        'Input': [100.0, 100.0, 1.0, 5.0, 20.0]}\n",
    "input_frame = pd.DataFrame(data, columns=['Symbol', 'Input'])\n",
    "input_frame.index = ['Underlying price', 'Strike price', 'Time to maturity', 'Risk-free interest rate', 'Volatility']\n",
    "print(input_frame)"
   ]
  },
  {
   "cell_type": "code",
   "execution_count": 39,
   "id": "00c82d57-5c79-4ab5-bd66-b4edc16208cf",
   "metadata": {},
   "outputs": [
    {
     "name": "stdout",
     "output_type": "stream",
     "text": [
      "Option Prices and Greeks:\n",
      "            Call       Put\n",
      "Price  10.450584  5.573526\n",
      "delta   0.636831 -0.363169\n",
      "gamma   0.018762  0.018762\n",
      "vega    0.375240  0.375240\n",
      "rho     0.532325 -0.418905\n",
      "theta  -0.017573 -0.004542\n"
     ]
    }
   ],
   "source": [
    "# Black-Scholes Option Pricing Functions\n",
    "def black_scholes_call(S, K, T, r, sigma):\n",
    "    \"\"\"Calculate Black-Scholes call option price\"\"\"\n",
    "    d1 = (np.log(S/K) + (r + 0.5*sigma**2)*T) / (sigma*np.sqrt(T))\n",
    "    d2 = d1 - sigma*np.sqrt(T)\n",
    "    call_price = S*norm.cdf(d1) - K*np.exp(-r*T)*norm.cdf(d2)\n",
    "    return call_price\n",
    "\n",
    "def black_scholes_put(S, K, T, r, sigma):\n",
    "    \"\"\"Calculate Black-Scholes put option price\"\"\"\n",
    "    d1 = (np.log(S/K) + (r + 0.5*sigma**2)*T) / (sigma*np.sqrt(T))\n",
    "    d2 = d1 - sigma*np.sqrt(T)\n",
    "    put_price = K*np.exp(-r*T)*norm.cdf(-d2) - S*norm.cdf(-d1)\n",
    "    return put_price\n",
    "\n",
    "# Greeks calculation functions\n",
    "def calculate_greeks(S, K, T, r, sigma):\n",
    "    \"\"\"Calculate all Greeks for both call and put options\"\"\"\n",
    "    d1 = (np.log(S/K) + (r + 0.5*sigma**2)*T) / (sigma*np.sqrt(T))\n",
    "    d2 = d1 - sigma*np.sqrt(T)\n",
    "    \n",
    "    # Call Greeks\n",
    "    call_delta = norm.cdf(d1)\n",
    "    call_gamma = norm.pdf(d1) / (S * sigma * np.sqrt(T))\n",
    "    call_vega = S * norm.pdf(d1) * np.sqrt(T) / 100  # Vega per 1% change in volatility\n",
    "    call_theta = -(S * norm.pdf(d1) * sigma / (2 * np.sqrt(T)) + \n",
    "                   r * K * np.exp(-r*T) * norm.cdf(d2)) / 365  # Theta per day\n",
    "    call_rho = K * T * np.exp(-r*T) * norm.cdf(d2) / 100  # Rho per 1% change in interest rate\n",
    "    \n",
    "    # Put Greeks\n",
    "    put_delta = call_delta - 1\n",
    "    put_gamma = call_gamma  # Gamma is the same for calls and puts\n",
    "    put_vega = call_vega   # Vega is the same for calls and puts\n",
    "    put_theta = -(S * norm.pdf(d1) * sigma / (2 * np.sqrt(T)) - \n",
    "                  r * K * np.exp(-r*T) * norm.cdf(-d2)) / 365  # Theta per day\n",
    "    put_rho = -K * T * np.exp(-r*T) * norm.cdf(-d2) / 100  # Rho per 1% change in interest rate\n",
    "    \n",
    "    return {\n",
    "        'call_delta': call_delta, 'call_gamma': call_gamma, 'call_vega': call_vega,\n",
    "        'call_theta': call_theta, 'call_rho': call_rho,\n",
    "        'put_delta': put_delta, 'put_gamma': put_gamma, 'put_vega': put_vega,\n",
    "        'put_theta': put_theta, 'put_rho': put_rho\n",
    "    }\n",
    "\n",
    "# Extract parameters from DataFrame\n",
    "S = input_frame.loc['Underlying price', 'Input']\n",
    "K = input_frame.loc['Strike price', 'Input']\n",
    "T = input_frame.loc['Time to maturity', 'Input']\n",
    "r = input_frame.loc['Risk-free interest rate', 'Input'] / 100  # Convert percentage to decimal\n",
    "sigma = input_frame.loc['Volatility', 'Input'] / 100  # Convert percentage to decimal\n",
    "\n",
    "# Calculate option prices\n",
    "call_price = black_scholes_call(S, K, T, r, sigma)\n",
    "put_price = black_scholes_put(S, K, T, r, sigma)\n",
    "\n",
    "# Calculate Greeks\n",
    "greeks = calculate_greeks(S, K, T, r, sigma)\n",
    "\n",
    "# Create results DataFrame\n",
    "price_and_greeks = pd.DataFrame({\n",
    "    'Call': [call_price, greeks['call_delta'], greeks['call_gamma'], \n",
    "             greeks['call_vega'], greeks['call_rho'], greeks['call_theta']],\n",
    "    'Put': [put_price, greeks['put_delta'], greeks['put_gamma'], \n",
    "            greeks['put_vega'], greeks['put_rho'], greeks['put_theta']]\n",
    "}, index=['Price', 'delta', 'gamma', 'vega', 'rho', 'theta'])\n",
    "\n",
    "print(\"Option Prices and Greeks:\")\n",
    "print(price_and_greeks)"
   ]
  },
  {
   "cell_type": "code",
   "execution_count": 70,
   "id": "ae75da83-7464-47c1-9a49-191134cd203b",
   "metadata": {},
   "outputs": [
    {
     "name": "stdin",
     "output_type": "stream",
     "text": [
      "Put or Call option? (P/C)   C\n",
      "What is the option price?  10.450584\n"
     ]
    },
    {
     "name": "stdout",
     "output_type": "stream",
     "text": [
      "The option price has to be a number.\n"
     ]
    },
    {
     "name": "stdin",
     "output_type": "stream",
     "text": [
      "What is the option price?  10.450584\n"
     ]
    }
   ],
   "source": [
    "# User Input for Option Type and Price\n",
    "option = input(\"Put or Call option? (P/C)  \")\n",
    "while option != 'P' and option != 'C':\n",
    "        print(\"Error: This option does not match the format (P/C) \\nTry again: \")\n",
    "        option = input(\"Put or Call option? (P/C)  \")\n",
    "\n",
    "price = input(\"What is the option price? \")\n",
    "while True:\n",
    "    try:\n",
    "        Price = float(Price)\n",
    "        break\n",
    "    except:\n",
    "        print(\"The option price has to be a number.\")\n",
    "        Price = input(\"What is the option price? \")"
   ]
  },
  {
   "cell_type": "code",
   "execution_count": 74,
   "id": "d82a0a0f-a23f-47af-aa8a-7784b2dfaa62",
   "metadata": {},
   "outputs": [
    {
     "name": "stdout",
     "output_type": "stream",
     "text": [
      "[['price' 'S' 'K' 'T' 'r']\n",
      " ['10.450584' '100.0' '100.0' '1.0' '0.05']]\n",
      "the implied volatility is 20.000000000000014%.\n"
     ]
    }
   ],
   "source": [
    "# Implied Volatility Calculator\n",
    "def implied_volatility(price, S, K, T, r, option_type='C'):\n",
    "    # Convert price to float if it's a string\n",
    "    price = float(price)\n",
    "    \n",
    "    sigma = 0.001\n",
    "    print(np.array([['price', 'S',  'K', 'T', 'r'], [price, S, K, T, r]]))\n",
    "    \n",
    "    if option_type == 'C':  # Fixed: was 'option', now 'option_type'\n",
    "        while sigma < 1:\n",
    "            Price_implied = S*norm.cdf(d1(S,K,T,r,sigma)) - K*exp(-r*T)*norm.cdf(d2(S,K,T,r,sigma))\n",
    "            if abs(price - Price_implied) < 0.001:  # Fixed: added abs() for proper convergence\n",
    "                return sigma\n",
    "            sigma += 0.001\n",
    "        return \"Could not find the right volatility of the call option.\"\n",
    "    else:\n",
    "        while sigma < 1:\n",
    "            Price_implied = K*exp(-r*T) - S + bs_call(S,K,T,r,sigma)\n",
    "            if abs(price - Price_implied) < 0.001:  # Fixed: added abs() for proper convergence\n",
    "                return sigma\n",
    "            sigma += 0.001\n",
    "        return \"Could not find the right volatility of the put option.\"  # Fixed: changed to \"put option\"\n",
    "    \n",
    "# Call the function\n",
    "result = implied_volatility(price, S, K, T, r)\n",
    "print(\"the implied volatility is \" + str(100 * result) + \"%.\")"
   ]
  },
  {
   "cell_type": "code",
   "execution_count": null,
   "id": "764ab721-1c87-4288-8e4d-e543ff5ba4f4",
   "metadata": {},
   "outputs": [],
   "source": []
  }
 ],
 "metadata": {
  "kernelspec": {
   "display_name": "Python (tf_env)",
   "language": "python",
   "name": "tf_env"
  },
  "language_info": {
   "codemirror_mode": {
    "name": "ipython",
    "version": 3
   },
   "file_extension": ".py",
   "mimetype": "text/x-python",
   "name": "python",
   "nbconvert_exporter": "python",
   "pygments_lexer": "ipython3",
   "version": "3.10.18"
  }
 },
 "nbformat": 4,
 "nbformat_minor": 5
}
